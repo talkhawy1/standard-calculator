{
 "cells": [
  {
   "cell_type": "code",
   "execution_count": null,
   "id": "5f198774",
   "metadata": {},
   "outputs": [],
   "source": [
    "import math\n",
    "print(\"select an operation:\")\n",
    "print(\"1-ADD\")\n",
    "print(\"2-SUBTRACT\")\n",
    "print(\"3-MULYIPLY\")\n",
    "print(\"4-DEVIDE\")\n",
    "print(\"5-SQUARE ROOT\")\n",
    "print(\"6-RAISE TO POWER\")\n",
    "print(\"7-SIN\")\n",
    "print(\"8-COS\")\n",
    "print(\"9-TAN\")\n",
    "\n",
    "operation = int(input())\n",
    "\n",
    "if operation == 1:\n",
    "    num1 = float(input(\"What is your first number?\"))\n",
    "    num2 = float(input(\"What is your second number?\"))\n",
    "    print(\"result =\",num1 + num2)\n",
    "elif operation == 2:\n",
    "    num1 = float(input(\"What is your first number?\"))\n",
    "    num2 = float(input(\"What is your second number?\"))\n",
    "    print(\"result =\",num1 - num2)\n",
    "elif operation == 3:\n",
    "    num1 = float(input(\"What is your first number?\"))\n",
    "    num2 = float(input(\"What is your second number?\"))\n",
    "    print(\"result =\",num1 * num2)\n",
    "elif operation == 4:\n",
    "    num1 = float(input(\"What is your first number?\"))\n",
    "    num2 = float(input(\"What is your second number?\"))\n",
    "    print(\"result =\",num1 / num2)\n",
    "elif operation == 5:\n",
    "    num = float(input(\"what is your number?\"))\n",
    "    print(\"result =\",math.sqrt(num))\n",
    "elif operation == 6:\n",
    "    num1 = float(input(\"What is your first number?\"))\n",
    "    num2 = float(input(\"What is your second number?\"))\n",
    "    print(\"result =\",num1 ** num2)\n",
    "elif operation == 7:\n",
    "    num = float(input(\"what is your number?\"))\n",
    "    print(\"result =\",math.sin(math.radians(num)))\n",
    "elif operation == 8:\n",
    "    num = float(input(\"what is your number?\"))\n",
    "    print(\"result =\",math.cos(math.radians(num)))\n",
    "elif operation == 9:\n",
    "    num = float(input(\"what is your number?\"))\n",
    "    print(\"result =\",math.tan(math.radians(num)))\n",
    "else:\n",
    "    print(\"operation not found\")"
   ]
  }
 ],
 "metadata": {
  "kernelspec": {
   "display_name": "Python 3 (ipykernel)",
   "language": "python",
   "name": "python3"
  },
  "language_info": {
   "codemirror_mode": {
    "name": "ipython",
    "version": 3
   },
   "file_extension": ".py",
   "mimetype": "text/x-python",
   "name": "python",
   "nbconvert_exporter": "python",
   "pygments_lexer": "ipython3",
   "version": "3.9.13"
  }
 },
 "nbformat": 4,
 "nbformat_minor": 5
}
